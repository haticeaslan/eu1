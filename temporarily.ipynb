{
 "cells": [
  {
   "cell_type": "markdown",
   "metadata": {
    "deletable": true,
    "editable": true
   },
   "source": [
    "# Karar Ağaçları ve Lojistik Regresyon Algoritmalarının R üzerinde karşılaştırılması\n",
    "\n",
    "## Üyeler\n",
    "\n",
    "1. Birinci üye: Elif Uygun uygunel@itu.edu.tr\n",
    "2. İkinci Üye: Gamze Kaptan kaptang@itu.edu.tr\n",
    "\n",
    "## Projenin tanımı\n",
    "\n",
    "Bu projede bir veri seti üzerinde karar ağaçları(Decision Tree) ve lojistik regresyon (Logistic Regression) algoritmaları kullanılarak veri setinin analizinin yapılması amaçlanmaktadır.R Studio üzerinde R'nin kendisine ait kütüphaneleri(library) kullanılarak sonuç alınacaktır. Veri setimizde bulunan nitelikler(attribute) her iki algoritmada sonuca ulaşmak için oldukça önemlidir. Veri setimiz bir bankanın veritabanından alınmış olup bankadaki müşteri bilgilerini içermektedir.Decision Tree ve Logistic Regression algoritmaları ile beraber müşterilere ait bu bilgiler kullanılarak bu müşterilerden hangilerine kredi verilip hangilerine verilmemesinin uygun olduğunun analizi yapılacaktır. Daha sonra bu iki algoritma karşılaştırılarak hangi algoritmanın daha iyi sonuç aldığı gözlemlenecektir.\n",
    "\n",
    "### Karar Ağaçları ve Karar Ağaçları Algoritması\n",
    "\n",
    "Karar Ağaçları sınıflama, özellik ve hedefe göre karar düğümleri(decision nodes) ve yaprak düğümlerinden(leaf nodes) oluşan ağaç yapısı formunda bir model oluşturan bir sınıflandırma yönetimidir. Sınıflandırma ve tahmin için sıkça kullanılan bir veri madenciliği(data mining) yaklaşımıdır. Bir karar alıcı tarafından tercihlerin, risklerin, kazançların ve hedeflerin tanımlanmasında yardımcı olmak için çeşitli karar düğümleri incelenebilir. Bu model, bir karar alıcıya karar alırken hangi faktörlerin göz önüne alınmasının belirlenmesinde yardımcı olur. Sinir ağları gibi diğer metodolojilerin de sınıflandırma için kullanılmasına rağmen, karar ağaçları, kolay yorumu ve anlaşılabilirliği açısından karar vericiler açısından avantaj sağlamaktadır. \n",
    "Karar ağaçları;  \n",
    " -Düşük maliyetli olması,  \n",
    " -Anlaşılmasının,yorumlanmasının ve veritabanları ile entegrasyonunun kolay olması,  \n",
    " Çoğu makine öğrenmesi algoritması ya sayısal ya da sınıflandırma verileri için kullanışlı olmasına rağmen karar ağaçlarının her iki veri tipinin işlenmesi için kullanılması,  \n",
    " -Güvenirliliklerinin iyi olması,  \n",
    " -Yüksek miktardaki veriyi kısa sürede işleyebilmesi\n",
    "gibi nedenlerden dolayı en yaygın kullanılan sınıflandırma tekniklerinden biridir. Karar ağacı algoritması, veri setini küçük ve daha küçük parçalara bölerek geliştirilir. Karar ağacı tekniğini kullanarak verinin sınıflanması, öğrenme ve sınıflama olmak üzere iki aşamalıdır. Öğrenme aşamasında bir tane öğrenme kümesi oluşturulur. Bu öğrenme kümesindeki örnekleri(instance) en iyi ayıran nitelik(attribute) belirlenir. En iyi nitelik ağacın kök düğümü(root node) olmuş olur. Daha sonra bu kök düğümün alt düğümleri, alt düğümlerin de yine alt düğümleri veya yaprak düğümleri oluşturulur. Bu şekilde veriler küçük ve daha küçük verilere bölünmüş olur. Daha küçük verilere ayırma işlemi örneklerin(instance) hepsi aynı sınıfa ait, örnekleri(instance) bölecek nitelik(attribute) kalmamış, kalan niteliklerin(attribute) özelliklerini taşıyacak örnek(instance) kalmayana kadar devam eder ve yaprak düğümleriyle sonlanır. Sınıflama aşamasında ise test verisi, karar ağacının doğruluğunu belirlemek amacıyla kullanılır. Veri setleri birçok nitelikten(attribute) oluşmaktadır.Bu nitelikler veriyi daha iyi tanımamıza yardımcı olmaktadır. Öğrenme aşamasında örnekleri en iyi ayıran niteliğin belirlenip o niteliğin kök düğüm olduğunu söylemiştik. Veri setindeki en iyi niteliğin belirlenmesi için kullanılan en yaygın yöntem **Entropi** ölçümüdür. Entropi kimyada bilinen anlamıyla rastgeleliğin,belirsizliğin ve beklenmeyen durumun ortaya çıkma olasılığını gösterir.Veri madenciliği yaklaşımında da aynı anlama geldiğinden dolayı en iyi niteliğin belirlenmesinde entropi ölçüsü en az olan nitelikler kullanılır. Çünkü entropisi yüksek olan nitelik o oranda belirsiz ve kararsızdır.\n",
    "Verilen bir $$A_K$$ alanının Entropi ölçüsünü bulan formüller şu şekildedir:\n",
    "$$E(C|A_K)=  \\sum_{j=1}^{M_K}  p(a_k,j)*[-\\sum_{i=1}^{N}  p(c_i|a_k,j)log_2p(c_i|a_k,j)]$$ (1)\n",
    "Bu formülde;\n",
    "                E(C|A_K)=  A_K  alanının  sınıflama  özelliğinin  Entropi  ölçüs,\n",
    "p(a_k,j)=a_k alanının j değerinde olma olasılığı,                          \n",
    "p(c_i|a_k,j)= a_k alanı j. değerindeyken sınıf değerinin c_i olma olasılığı, \n",
    "M_k = a_k  alanının içerdiği değerlerin sayısı; j = 1,2,., M_k, \n",
    "N = farklı sınıfların sayısı; i = 1, 2,…, N,\n",
    "K = niteliklerin sayısı; k = 1,2,…, K\n",
    "Eğer bir S kümesindeki elemanlar, kategorik olarak C_1,C_2,C_3,...,C_i sınıflarına ayrıştırılırsa, S kümesindeki bir elemanın sınıfını belirlemek için gereken bilgi şu formülle hesaplanmaktadır.\n",
    "$$I(s_1,s_2,....s_m)=-\\sum_{i=1}^{m} p_ilog_2(p_i)$$  Bu formülde p_i,C_i  sınıfına ayrılma olasılığıdır. Entropi denklemi şu şekilde de ifade edilebilir.  $$E(A)=  \\sum_{i=1}^{n} \\left( \\frac{S_i}{S} \\right) I(s_i)$$\n",
    "Bu durumda A niteliği kullanılarak yapılacak dallanma işleminde, bilgi kazancı(information gain) şu formülle hesaplanmaktadır.\n",
    "$$Kazanç(A)=E(S)-E(A)$$  Burada *E(S)*; sistemin entropi değeri olup *E(A)* ise A niteliğinin entropi değeridir. Her özellik için ayrı ayrı bilgi kazancı hesaplanır ve bilgi kazancı en yüksek olan nitelik ağacın en üstünde konumlanarak kök düğüm olmuş olur. Bu işlemler her düğüm için örneklerin hepsi aynı sınıfa ait, örnekleri bölecek özellik kalmamış, kalan özelliklerin değerini taşıyan örnek olmayana kadar devam eder. Ve bu adımlar tamamlanarak karar agacı tamamlanmış olur.Şimdi az örnekli bir veri seti üzerinde bu algoritmayı göstermeye çalışalım. \n",
    "### Örnek Uygulama\n",
    " Bu örnek veri setimizde hava, ebeveyn ve para durumuna göre o hafta ne yapılacağına karar verilecektir. Örnek veri setimizi inceleyelim.\n",
    " \n",
    "\n",
    "|Hafta|Hava Durumu|Ebeveyn Durumu|Para Durumu|Karar|\n",
    "|---|---|---|---|---|\n",
    "|1.Hafta|Güneşli |Var|Var|Sinema|\n",
    "|2.Hafta|Güneşli|Yok|Var|Tenis|\n",
    "|3.Hafta|Rüzgarlı|Var|Var|Sinema|\n",
    "|4.Hafta|Yağmurlu|Var|Yok|Sinema|\n",
    "|5.Hafta|Yağmurlu|Yok|Var|Ev|\n",
    "|6.Hafta|Yağmurlu|Var|Yok|Sinema|\n",
    "|7.Hafta|Rüzgarlı|Yok|Yok|Sinema|\n",
    "|8.Hafta|Rüzgarlı|Yok|Var|Alışveriş|\n",
    "|9.Hafta|Rüzgarlı|Var|Var|Sinema|\n",
    "|10.Hafta|Güneşli|Yok|Var|Tenis|\n",
    "\n",
    "Veri setimizde toplam 10 örnek vardır. Bu 10 örnekten 6 örnek için karar sinema(6/10),2 örnek için karar tenis oynamak(2/10),1 örnek için karar evde kalmak(1/10),1 örnek için karar alışverişe gitmek(1/10) ise Entropi değeri yukarıda verilen formül neticesinde    \n",
    "$$\n",
    "Entropi=-(6/10)log_2(6/10)-2/10log_2(2/10)-1/10log_2(1/10)-1/10log_2(1/10)$$  \n",
    "$$E(S)=1,571$$ Böylelikle sistemimizin entropisi bulunmuş oldu. Kök düğümün hangisi olduğunu bulmak için niteliklerimiz olan; hava, ebeveyn ve para özelliklerimizin bilgi kazançlarını hesaplayıp en yüksek kazanca sahip olan nitelik kök düğüm olarak seçilir.*Hava niteliğimiz* için *bilgi kazancı* değeri \n",
    "Kazanç(Hava Durumu)=E(S)-E(Hava Durumu) Bunun için hava durumunun entropi değerine ihtiyaç vardır. Hava Durumu Güneşli, Rüzgarlı ve Yağmurlu şeklindedir. Güneşli hava durumu toplam 3 tane olup bunlardan 1'i sinemaya gitmek olup 2'si  tenis oynamaktır. Rüzgarlı  hava durumu toplam 4 tane olup bunlardan 3'ü sinemeya gitmek 1'i alışveriş yapmaktır. Yağmurlu hava durumu toplam 3 tane olup bunlardan 2'si sinemaya gitmek olup 1 tanesi de evde kalmaktır. Bu durumda her birinin bilgi değeri $$I(s_1,s_2,....s_m)=-\\sum_{i=1}^{m} p_ilog_2(p_i)$$ \n",
    "$$I(güneşli)=-1/3log_2(1/3)-2/3log_2(2/3)=0,918$$\n",
    "$$I(rüzgarlı)=-3/4log_2(3/4)-1/4log_2(1/4)=0,811$$\n",
    "$$I(yağmurlu)=-2/3log_2(2/3)-1/3log_2(1/3)=0,918$$ Daha sonra $$ E(A)= \\sum_{i=1}^{n} \\left( \\frac{S_i}{S} \\right) I(s_i)$$ formülünden $$E(Hava Durumu)=3/10*0,918+4/10*0,811+3/10*0,918=0,8752$$ Böylece hava durmunun entropi değeri    bulunmuş oldu. Bu durumda hava durumunun bilgi kazancı 1,571-0,8752=*0,70*  \n",
    "Ebeveyn'in de bilgi kazancını bulalım. Ebeveyn durumu *var* veya *yok* şeklinde 2 kategori halindedir. Toplamda 5 tane var durumu olup 5'i de sinemaya gitme kararı almışlardır. Yok ise toplamda 5 tane olup 2'si tenis oynamaya, 1'i evde kalmaya, 1'i sinemaya gitmeye diğeri de alışveriş yapmaya karar vermiştir. \n",
    "\n",
    "\n",
    "\n",
    "\n",
    "\n",
    "\n",
    "\n"
   ]
  },
  {
   "cell_type": "markdown",
   "metadata": {
    "collapsed": false,
    "deletable": true,
    "editable": true
   },
   "source": [
    "$$I(var)=5/5log_2(5/5)=0$$\n",
    "$$I(yok)=-2/5log_2(2/5)-1/5log_2(1/5)-1/5log_2(1/5)-1/5log_2(1/5)=1,922 $$\n",
    "$$E(ebevyn)5/10*0 + 5/10*1,922=0,961$$\n",
    "$$Kazanç(Ebevyn)=1,571-0,961=0,61$$ \n",
    "Para durumu için de aynı işlemler yapıldığında Bilgi kazancı 0,2816 şeklinde bulunur. Hava durumu, ebevyn ve para niteliklerinden bilgi kazancı en yüksek olan 0,70 ile hava durumudur. Bu nedenle *hava durumu* kök düğüm olmuş olur. Böylece az örnekli bir veri setinde kök düğümün bu şekilde hesaplama ile bulunuduğunu göstermiş olduk. Bizim üzerimizde çalışacağımız veri seti 4521 satırlık bir veri olduğundan dolayı bu şekilde hesaplama yaparak kök düğüme ulaşmamız çok uzun zaman alacaktır. Bu nedenle R studio üzerinde R'ın kendine ait kütüphaneleri kullanılarak sonuç alınacaktır. Veri setimizi incelemeye başlayalım.\n",
    "### Veri Seti:\n",
    "Bu veri setimiz Portekiz'e ait bir bankanın pazarlama kampanyası için olası müşterilerilerin özelliklerini içermektedir. Bu kampanyalar telefonla müşteriler aranılarak yapılmaktadır. Eğer müşteri kampanyayı yani bankaya ait mevduatı almayı kabul ederse birkaç defa daha iletişime geçilmektedir. Bank.csv tablomuzda 4521 tane örnek(instance) olup, 16+karar (y) niteliği (attribute) bulunmaktadır. Bu attributelar instance'lara ait özelliklerdir. Bu niteliklere bakılacak olursa;  \n",
    " 1- **age**: Müşterilere ait yaş bilgisini içerir. Sayısal bir değerdir.  \n",
    " 2- **job**: Müşterilerin meslek bilgisini içerir.Kategorik olup *admin, unknown, unemployed, management, housemaid, entrepreneur, student, blue-collar, self-employed, retired, techinician, services* şeklinde 12 çeşittir.  \n",
    " 3- **marital**: Müşterilerin medeni durumlarını içermektedir. Kategorik olup *married, divorced, single* şeklinde 3 çeşittir.    \n",
    " 4-**education**: Müşterilere ait eğitim bilgilerini içermektedir.Kategorik olup *unknown, secondary, primary, tertiary* şeklinde 4 çeşittir.  \n",
    " 5-**default**: Müşterinin bankada kredisi olup olmadığı bilgisini içerir. Kategorik olup Yes, No şeklinde 2 çeşittir.  \n",
    " 6-**balance**: Müşterinin ortalama yıllık bakiyesini euro olarak ifade etmektedir. Sayısal bir değerdir.  \n",
    " 7-**housing**: Müşterinin konut kredisi olup olmadığı bilgisini içerir. Kategorik olup Yes, No şeklinde 2 çeşittir.      \n",
    " 8-**loan**: Müşterinin bireysel kredisinin olup olmadığı bilgisini içerir.Kategorik olup Yes, No şeklinde 2 çeşittir.  \n",
    "9-**contact**: Müşteriye ait iletişim tipini belirtir. Kategorik olup unknown, telephone, cellular şeklinde 3 çeşittir.  \n",
    "10-**day**: Bu kampanya için müşteriyle en son iletişime geçirilen ayın gün bilgisini içerir. Sayısal bir değerdir.  \n",
    " 11-**month**: Bu kampanya için müşteriyle en son iletişime geçirilen ayın bilgisini içerir. Kategorik bir değer olup *jan,feb,mar,apr,may,june,july,aug,sep,oct,nov,dec* şeklinde 12 çeşittir.  \n",
    " 12-**duration**:Bu kampanya için müşteriyle en son iletişime geçirilen görüşmenin saniye olarak süresini içerir. Sayısal bir değerdir.  \n",
    " 13-**campaign**: Bu kampanyada bir müşteri için kaç kez iletişime geçtiğinin bilgisini içerir. Sayısal bir değerdir.  \n",
    " 14-**pdays**: Bir önceki kampanyada müşteri ile en son iletişime geçilmesinden sonra kaç gün geçtiğini gösterir. Sayısal bir değerdir. Burada bulunan -1 değeri daha önce iletişime geçilmediğini göstermektedir.   \n",
    " 15-**previous**: Bir önceki kampanyada müşteri ile iletişime kaç defa geçirildiğinin bilgisini içerir. Sayısal bir değerdir.  \n",
    " 16-**poutcome**: Müşterinin bir önceki kampanyadaki ürünü alıp almadığı sonucunu içerir. Kategorik olup unknown, other, failure, success şeklinde çeşittir.  \n",
    " 17-**y**:  Müşteri ile ilgili kredi verilip verilmemesinin kararının verildiği alandır. Kategorik olup Yes, No şeklinde 2 çeşittir.  \n",
    " \n",
    " R programının çalışma dizinine aktarılan Banka.txt dosyamızı çekelim.\n",
    " "
   ]
  },
  {
   "cell_type": "code",
   "execution_count": 7,
   "metadata": {
    "collapsed": false,
    "deletable": true,
    "editable": true
   },
   "outputs": [
    {
     "data": {
      "text/html": [
       "<table>\n",
       "<thead><tr><th scope=col>age</th><th scope=col>job</th><th scope=col>marital</th><th scope=col>education</th><th scope=col>default</th><th scope=col>balance</th><th scope=col>housing</th><th scope=col>loan</th><th scope=col>contact</th><th scope=col>day</th><th scope=col>month</th><th scope=col>duration</th><th scope=col>campaign</th><th scope=col>pdays</th><th scope=col>previous</th><th scope=col>poutcome</th><th scope=col>y</th></tr></thead>\n",
       "<tbody>\n",
       "\t<tr><td>30         </td><td>unemployed </td><td>married    </td><td>primary    </td><td>no         </td><td>1787       </td><td>no         </td><td>no         </td><td>cellular   </td><td>19         </td><td>oct        </td><td> 79        </td><td>1          </td><td> -1        </td><td>0          </td><td>unknown    </td><td>no         </td></tr>\n",
       "\t<tr><td>33         </td><td>services   </td><td>married    </td><td>secondary  </td><td>no         </td><td>4789       </td><td>yes        </td><td>yes        </td><td>cellular   </td><td>11         </td><td>may        </td><td>220        </td><td>1          </td><td>339        </td><td>4          </td><td>failure    </td><td>no         </td></tr>\n",
       "\t<tr><td>35         </td><td>management </td><td>single     </td><td>tertiary   </td><td>no         </td><td>1350       </td><td>yes        </td><td>no         </td><td>cellular   </td><td>16         </td><td>apr        </td><td>185        </td><td>1          </td><td>330        </td><td>1          </td><td>failure    </td><td>no         </td></tr>\n",
       "\t<tr><td>30         </td><td>management </td><td>married    </td><td>tertiary   </td><td>no         </td><td>1476       </td><td>yes        </td><td>yes        </td><td>unknown    </td><td> 3         </td><td>jun        </td><td>199        </td><td>4          </td><td> -1        </td><td>0          </td><td>unknown    </td><td>no         </td></tr>\n",
       "\t<tr><td>59         </td><td>blue-collar</td><td>married    </td><td>secondary  </td><td>no         </td><td>   0       </td><td>yes        </td><td>no         </td><td>unknown    </td><td> 5         </td><td>may        </td><td>226        </td><td>1          </td><td> -1        </td><td>0          </td><td>unknown    </td><td>no         </td></tr>\n",
       "\t<tr><td>35         </td><td>management </td><td>single     </td><td>tertiary   </td><td>no         </td><td> 747       </td><td>no         </td><td>no         </td><td>cellular   </td><td>23         </td><td>feb        </td><td>141        </td><td>2          </td><td>176        </td><td>3          </td><td>failure    </td><td>no         </td></tr>\n",
       "</tbody>\n",
       "</table>\n"
      ],
      "text/latex": [
       "\\begin{tabular}{r|lllllllllllllllll}\n",
       " age & job & marital & education & default & balance & housing & loan & contact & day & month & duration & campaign & pdays & previous & poutcome & y\\\\\n",
       "\\hline\n",
       "\t 30          & unemployed  & married     & primary     & no          & 1787        & no          & no          & cellular    & 19          & oct         &  79         & 1           &  -1         & 0           & unknown     & no         \\\\\n",
       "\t 33          & services    & married     & secondary   & no          & 4789        & yes         & yes         & cellular    & 11          & may         & 220         & 1           & 339         & 4           & failure     & no         \\\\\n",
       "\t 35          & management  & single      & tertiary    & no          & 1350        & yes         & no          & cellular    & 16          & apr         & 185         & 1           & 330         & 1           & failure     & no         \\\\\n",
       "\t 30          & management  & married     & tertiary    & no          & 1476        & yes         & yes         & unknown     &  3          & jun         & 199         & 4           &  -1         & 0           & unknown     & no         \\\\\n",
       "\t 59          & blue-collar & married     & secondary   & no          &    0        & yes         & no          & unknown     &  5          & may         & 226         & 1           &  -1         & 0           & unknown     & no         \\\\\n",
       "\t 35          & management  & single      & tertiary    & no          &  747        & no          & no          & cellular    & 23          & feb         & 141         & 2           & 176         & 3           & failure     & no         \\\\\n",
       "\\end{tabular}\n"
      ],
      "text/markdown": [
       "\n",
       "age | job | marital | education | default | balance | housing | loan | contact | day | month | duration | campaign | pdays | previous | poutcome | y | \n",
       "|---|---|---|---|---|---|\n",
       "| 30          | unemployed  | married     | primary     | no          | 1787        | no          | no          | cellular    | 19          | oct         |  79         | 1           |  -1         | 0           | unknown     | no          | \n",
       "| 33          | services    | married     | secondary   | no          | 4789        | yes         | yes         | cellular    | 11          | may         | 220         | 1           | 339         | 4           | failure     | no          | \n",
       "| 35          | management  | single      | tertiary    | no          | 1350        | yes         | no          | cellular    | 16          | apr         | 185         | 1           | 330         | 1           | failure     | no          | \n",
       "| 30          | management  | married     | tertiary    | no          | 1476        | yes         | yes         | unknown     |  3          | jun         | 199         | 4           |  -1         | 0           | unknown     | no          | \n",
       "| 59          | blue-collar | married     | secondary   | no          |    0        | yes         | no          | unknown     |  5          | may         | 226         | 1           |  -1         | 0           | unknown     | no          | \n",
       "| 35          | management  | single      | tertiary    | no          |  747        | no          | no          | cellular    | 23          | feb         | 141         | 2           | 176         | 3           | failure     | no          | \n",
       "\n",
       "\n"
      ],
      "text/plain": [
       "  age job         marital education default balance housing loan contact  day\n",
       "1 30  unemployed  married primary   no      1787    no      no   cellular 19 \n",
       "2 33  services    married secondary no      4789    yes     yes  cellular 11 \n",
       "3 35  management  single  tertiary  no      1350    yes     no   cellular 16 \n",
       "4 30  management  married tertiary  no      1476    yes     yes  unknown   3 \n",
       "5 59  blue-collar married secondary no         0    yes     no   unknown   5 \n",
       "6 35  management  single  tertiary  no       747    no      no   cellular 23 \n",
       "  month duration campaign pdays previous poutcome y \n",
       "1 oct    79      1         -1   0        unknown  no\n",
       "2 may   220      1        339   4        failure  no\n",
       "3 apr   185      1        330   1        failure  no\n",
       "4 jun   199      4         -1   0        unknown  no\n",
       "5 may   226      1         -1   0        unknown  no\n",
       "6 feb   141      2        176   3        failure  no"
      ]
     },
     "metadata": {},
     "output_type": "display_data"
    }
   ],
   "source": [
    "data<-read.table(\"Banka.txt\",header=T,sep=\"\\t\")\n",
    "head(data)"
   ]
  },
  {
   "cell_type": "markdown",
   "metadata": {},
   "source": [
    "read.table fonksiyonu dosyayı tablo formatında okur ve dosyadaki alanlara ve satırlara karşılık gelen durumlarla ilgili olarak bir veri çerçevesi oluşturur."
   ]
  }
 ],
 "metadata": {
  "kernelspec": {
   "display_name": "R",
   "language": "R",
   "name": "ir"
  },
  "language_info": {
   "codemirror_mode": "r",
   "file_extension": ".r",
   "mimetype": "text/x-r-source",
   "name": "R",
   "pygments_lexer": "r",
   "version": "3.3.2"
  }
 },
 "nbformat": 4,
 "nbformat_minor": 2
}
