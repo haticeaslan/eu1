{
 "cells": [
  {
   "cell_type": "markdown",
   "metadata": {
    "deletable": true,
    "editable": true
   },
   "source": [
    "# Karar Ağaçları ve Lojistik Regresyon Algoritmalarının R üzerinde karşılaştırılması\n",
    "\n",
    "## Üyeler\n",
    "\n",
    "1. Birinci üye: Elif Uygun uygunel@itu.edu.tr\n",
    "2. İkinci Üye: Gamze Kaptan kaptang@itu.edu.tr\n",
    "\n",
    "## Projenin tanımı\n",
    "\n",
    "Bu projede bir veri seti üzerinde karar ağaçları(Decision Tree) ve lojistik regresyon (Logistic Regression) algoritmaları kullanılarak veri setinin analizinin yapılması amaçlanmaktadır.R Studio üzerinde R'nin kendisine ait kütüphaneleri(library) kullanılarak sonuç alınacaktır. Veri setimizde bulunan nitelikler(attribute) her iki algoritmada sonuca ulaşmak için oldukça önemlidir. Veri setimiz bir bankanın veritabanından alınmış olup bankadaki müşteri bilgilerini içermektedir.Decision Tree ve Logistic Regression algoritmaları ile beraber müşterilere ait bu bilgiler kullanılarak bu müşterilerden hangilerine kredi verilip hangilerine verilmemesinin uygun olduğunun analizi yapılacaktır. Daha sonra bu iki algoritma karşılaştırılarak hangi algoritmanın daha iyi sonuç aldığı gözlemlenecektir.\n",
    "\n",
    "### Karar Ağaçları ve Karar Ağaçları Algoritması\n",
    "\n",
    "Karar Ağaçları sınıflama, özellik ve hedefe göre karar düğümleri(decision nodes) ve yaprak düğümlerinden(leaf nodes) oluşan ağaç yapısı formunda bir model oluşturan bir sınıflandırma yönetimidir. Sınıflandırma ve tahmin için sıkça kullanılan bir veri madenciliği(data mining) yaklaşımıdır. Bir karar alıcı tarafından tercihlerin, risklerin, kazançların ve hedeflerin tanımlanmasında yardımcı olmak için çeşitli karar düğümleri incelenebilir. Bu model, bir karar alıcıya karar alırken hangi faktörlerin göz önüne alınmasının belirlenmesinde yardımcı olur. Sinir ağları gibi diğer metodolojilerin de sınıflandırma için kullanılmasına rağmen, karar ağaçları, kolay yorumu ve anlaşılabilirliği açısından karar vericiler açısından avantaj sağlamaktadır. \n",
    "Karar ağaçları;  \n",
    " -Düşük maliyetli olması,  \n",
    " -Anlaşılmasının,yorumlanmasının ve veritabanları ile entegrasyonunun kolay olması,  \n",
    " Çoğu makine öğrenmesi algoritması ya sayısal ya da sınıflandırma verileri için kullanışlı olmasına rağmen karar ağaçlarının her iki veri tipinin işlenmesi için kullanılması,  \n",
    " -Güvenirliliklerinin iyi olması,  \n",
    " -Yüksek miktardaki veriyi kısa sürede işleyebilmesi\n",
    "gibi nedenlerden dolayı en yaygın kullanılan sınıflandırma tekniklerinden biridir. Karar ağacı algoritması, veri setini küçük ve daha küçük parçalara bölerek geliştirilir. Karar ağacı tekniğini kullanarak verinin sınıflanması, öğrenme ve sınıflama olmak üzere iki aşamalıdır. Öğrenme aşamasında bir tane öğrenme kümesi oluşturulur. Bu öğrenme kümesindeki örnekleri(instance) en iyi ayıran nitelik(attribute) belirlenir. En iyi nitelik ağacın kök düğümü(root node) olmuş olur. Daha sonra bu kök düğümün alt düğümleri, alt düğümlerin de yine alt düğümleri veya yaprak düğümleri oluşturulur. Bu şekilde veriler küçük ve daha küçük verilere bölünmüş olur. Daha küçük verilere ayırma işlemi örneklerin(instance) hepsi aynı sınıfa ait, örnekleri(instance) bölecek nitelik(attribute) kalmamış, kalan niteliklerin(attribute) özelliklerini taşıyacak örnek(instance) kalmayana kadar devam eder ve yaprak düğümleriyle sonlanır. Sınıflama aşamasında ise test verisi, karar ağacının doğruluğunu belirlemek amacıyla kullanılır. Veri setleri birçok nitelikten(attribute) oluşmaktadır.Bu nitelikler veriyi daha iyi tanımamıza yardımcı olmaktadır. Öğrenme aşamasında örnekleri en iyi ayıran niteliğin belirlenip o niteliğin kök düğüm olduğunu söylemiştik. Veri setindeki en iyi niteliğin belirlenmesi için kullanılan en yaygın yöntem **Entropi** ölçümüdür. Entropi kimyada bilinen anlamıyla rastgeleliğin,belirsizliğin ve beklenmeyen durumun ortaya çıkma olasılığını gösterir.Veri madenciliği yaklaşımında da aynı anlama geldiğinden dolayı en iyi niteliğin belirlenmesinde entropi ölçüsü en az olan nitelikler kullanılır. Çünkü entropisi yüksek olan nitelik o oranda belirsiz ve kararsızdır.\n",
    "Verilen bir $$A_K$$ alanının Entropi ölçüsünü bulan formüller şu şekildedir:\n",
    "$$E(C|A_K)=  \\sum_{j=1}^{M_K}  p(a_k,j)*[-\\sum_{i=1}^{N}  p(c_i|a_k,j)log_2p(c_i|a_k,j)]$$ (1)\n",
    "Bu formülde;\n",
    "                E(C|A_K)=  A_K  alanının  sınıflama  özelliğinin  Entropi  ölçüs,\n",
    "p(a_k,j)=a_k alanının j değerinde olma olasılığı,                          \n",
    "p(c_i|a_k,j)= a_k alanı j. değerindeyken sınıf değerinin c_i olma olasılığı, \n",
    "M_k = a_k  alanının içerdiği değerlerin sayısı; j = 1,2,., M_k, \n",
    "N = farklı sınıfların sayısı; i = 1, 2,…, N,\n",
    "K = niteliklerin sayısı; k = 1,2,…, K\n",
    "Eğer bir S kümesindeki elemanlar, kategorik olarak C_1,C_2,C_3,...,C_i sınıflarına ayrıştırılırsa, S kümesindeki bir elemanın sınıfını belirlemek için gereken bilgi şu formülle hesaplanmaktadır.\n",
    "$$I(s_1,s_2,....s_m)=-\\sum_{i=1}^{m} p_ilog_2(p_i)$$  Bu formülde p_i,C_i  sınıfına ayrılma olasılığıdır. Entropi denklemi şu şekilde de ifade edilebilir.  $$E(A)=  \\sum_{i=1}^{n} \\left( \\frac{S_i}{S} \\right) I(s_i)$$\n",
    "Bu durumda A niteliği kullanılarak yapılacak dallanma işleminde, bilgi kazancı(information gain) şu formülle hesaplanmaktadır.\n",
    "$$Kazanç(A)=E(S)-E(A)$$  Burada *E(S)*; sistemin entropi değeri olup *E(A)* ise A niteliğinin entropi değeridir. Her özellik için ayrı ayrı bilgi kazancı hesaplanır ve bilgi kazancı en yüksek olan nitelik ağacın en üstünde konumlanarak kök düğüm olmuş olur. Bu işlemler her düğüm için örneklerin hepsi aynı sınıfa ait, örnekleri bölecek özellik kalmamış, kalan özelliklerin değerini taşıyan örnek olmayana kadar devam eder. Ve bu adımlar tamamlanarak karar agacı tamamlanmış olur.Şimdi az örnekli bir veri seti üzerinde bu algoritmayı göstermeye çalışalım. \n",
    "### Örnek Uygulama\n",
    " Bu örnek veri setimizde hava, ebeveyn ve para durumuna göre o hafta ne yapılacağına karar verilecektir. Örnek veri setimizi inceleyelim.\n",
    " \n",
    "\n",
    "|Hafta|Hava Durumu|Ebeveyn Durumu|Para Durumu|Karar|\n",
    "|---|---|---|---|---|\n",
    "|1.Hafta|Güneşli |Var|Var|Sinema|\n",
    "|2.Hafta|Güneşli|Yok|Var|Tenis|\n",
    "|3.Hafta|Rüzgarlı|Var|Var|Sinema|\n",
    "|4.Hafta|Yağmurlu|Var|Yok|Sinema|\n",
    "|5.Hafta|Yağmurlu|Yok|Var|Ev|\n",
    "|6.Hafta|Yağmurlu|Var|Yok|Sinema|\n",
    "|7.Hafta|Rüzgarlı|Yok|Yok|Sinema|\n",
    "|8.Hafta|Rüzgarlı|Yok|Var|Alışveriş|\n",
    "|9.Hafta|Rüzgarlı|Var|Var|Sinema|\n",
    "|10.Hafta|Güneşli|Yok|Var|Tenis|\n",
    "\n",
    "Veri setimizde toplam 10 örnek vardır. Bu 10 örnekten 6 örnek için karar sinema(6/10),2 örnek için karar tenis oynamak(2/10),1 örnek için karar evde kalmak(1/10),1 örnek için karar alışverişe gitmek(1/10) ise Entropi değeri yukarıda verilen formül neticesinde    \n",
    "$$\n",
    "Entropi=-(6/10)log_2(6/10)-2/10log_2(2/10)-1/10log_2(1/10)-1/10log_2(1/10)$$  \n",
    "$$E(S)=1,571$$ Böylelikle sistemimizin entropisi bulunmuş oldu. Kök düğümün hangisi olduğunu bulmak için niteliklerimiz olan; hava, ebeveyn ve para özelliklerimizin bilgi kazançlarını hesaplayıp en yüksek kazanca sahip olan nitelik kök düğüm olarak seçilir.*Hava niteliğimiz* için *bilgi kazancı* değeri \n",
    "Kazanç(Hava Durumu)=E(S)-E(Hava Durumu) Bunun için hava durumunun entropi değerine ihtiyaç vardır. Hava Durumu Güneşli, Rüzgarlı ve Yağmurlu şeklindedir. Güneşli hava durumu toplam 3 tane olup bunlardan 1'i sinemaya gitmek olup 2'si  tenis oynamaktır. Rüzgarlı  hava durumu toplam 4 tane olup bunlardan 3'ü sinemeya gitmek 1'i alışveriş yapmaktır. Yağmurlu hava durumu toplam 3 tane olup bunlardan 2'si sinemaya gitmek olup 1 tanesi de evde kalmaktır. Bu durumda her birinin bilgi değeri $$I(s_1,s_2,....s_m)=-\\sum_{i=1}^{m} p_ilog_2(p_i)$$ \n",
    "$$I(güneşli)=-1/3log_2(1/3)-2/3log_2(2/3)=0,918$$\n",
    "$$I(rüzgarlı)=-3/4log_2(3/4)-1/4log_2(1/4)=0,811$$\n",
    "$$I(yağmurlu)=-2/3log_2(2/3)-1/3log_2(1/3)=0,918$$ Daha sonra $$ E(A)= \\sum_{i=1}^{n} \\left( \\frac{S_i}{S} \\right) I(s_i)$$ formülünden $$E(Hava Durumu)=3/10*0,918+4/10*0,811+3/10*0,918=0,8752$$ Böylece hava durmunun entropi değeri    bulunmuş oldu. Bu durumda hava durumunun bilgi kazancı 1,571-0,8752=*0,70*  \n",
    "Ebeveyn'in de bilgi kazancını bulalım. Ebeveyn durumu *var* veya *yok* şeklinde 2 kategori halindedir. Toplamda 5 tane var durumu olup 5'i de sinemaya gitme kararı almışlardır. Yok ise toplamda 5 tane olup 2'si tenis oynamaya, 1'i evde kalmaya, 1'i sinemaya gitmeye diğeri de alışveriş yapmaya karar vermiştir. \n",
    "\n",
    "\n",
    "\n",
    "\n",
    "\n",
    "\n",
    "\n"
   ]
  },
  {
   "cell_type": "markdown",
   "metadata": {
    "collapsed": false,
    "deletable": true,
    "editable": true
   },
   "source": [
    "$$I(var)=5/5log_2(5/5)=0$$\n",
    "$$I(yok)=-2/5log_2(2/5)-1/5log_2(1/5)-1/5log_2(1/5)-1/5log_2(1/5)=1,922 $$\n",
    "$$E(ebevyn)5/10*0 + 5/10*1,922=0,961$$\n",
    "$$Kazanç(Ebevyn)=1,571-0,961=0,61$$ \n",
    "Para durumu için de aynı işlemler yapıldığında Bilgi kazancı 0,2816 şeklinde bulunur. Hava durumu, ebevyn ve para niteliklerinden bilgi kazancı en yüksek olan 0,70 ile hava durumudur. Bu nedenle *hava durumu* kök düğüm olmuş olur. Böylece az örnekli bir veri setinde kök düğümün bu şekilde hesaplama ile bulunuduğunu göstermiş olduk. Bizim üzerimizde çalışacağımız veri seti 4521 satırlık bir veri olduğundan dolayı bu şekilde hesaplama yaparak kök düğüme ulaşmamız çok uzun zaman alacaktır. Bu nedenle R studio üzerinde R'ın kendine ait kütüphaneleri kullanılarak sonuç alınacaktır. Veri setimizi incelemeye başlayalım.\n",
    "### Veri Seti:\n",
    "Bu veri setimiz Portekiz'e ait bir bankanın pazarlama kampanyası için olası müşterilerilerin özelliklerini içermektedir. Bu kampanyalar telefonla müşteriler aranılarak yapılmaktadır. Eğer müşteri kampanyayı yani bankaya ait mevduatı almayı kabul ederse birkaç defa daha iletişime geçilmektedir. Bank.csv tablomuzda 4521 tane örnek(instance) olup, 16+karar (y) niteliği (attribute) bulunmaktadır. Bu nitelikler örneklere ait özelliklerdir ve veriyi tanımamıza yardımcı olur. Bu niteliklere bakılacak olursa;  \n",
    " 1- **age**: Müşterilere ait yaş bilgisini içerir. Sayısal bir değerdir.  \n",
    " 2- **job**: Müşterilerin meslek bilgisini içerir.Kategorik olup *admin, unknown, unemployed, management, housemaid, entrepreneur, student, blue-collar, self-employed, retired, techinician, services* şeklinde 12 çeşittir.  \n",
    " 3- **marital**: Müşterilerin medeni durumlarını içermektedir. Kategorik olup *married, divorced, single* şeklinde 3 çeşittir.    \n",
    " 4-**education**: Müşterilere ait eğitim bilgilerini içermektedir.Kategorik olup *unknown, secondary, primary, tertiary* şeklinde 4 çeşittir.  \n",
    " 5-**default**: Müşterinin bankada kredisi olup olmadığının bilgisini içerir. Kategorik olup Yes, No şeklinde 2 çeşittir.  \n",
    " 6-**balance**: Müşterinin ortalama yıllık bakiyesini euro olarak ifade etmektedir. Sayısal bir değerdir.  \n",
    " 7-**housing**: Müşterinin konut kredisi olup olmadığının bilgisini içerir. Kategorik olup Yes, No şeklinde 2 çeşittir.      \n",
    " 8-**loan**: Müşterinin bireysel kredisinin olup olmadığının bilgisini içerir.Kategorik olup Yes, No şeklinde 2 çeşittir.  \n",
    "9-**contact**: Müşteriye ait iletişim tipini belirtir. Kategorik olup unknown, telephone, cellular şeklinde 3 çeşittir.  \n",
    "10-**day**: Bu kampanya için müşteriyle en son iletişime geçirilen ayın gün bilgisini içerir. Sayısal bir değerdir.  \n",
    " 11-**month**: Bu kampanya için müşteriyle en son iletişime geçirilen ayın bilgisini içerir. Kategorik bir değer olup *jan,feb,mar,apr,may,june,july,aug,sep,oct,nov,dec* şeklinde 12 çeşittir.  \n",
    " 12-**duration**:Bu kampanya için müşteriyle en son iletişime geçirilen görüşmenin saniye olarak süresini içerir. Sayısal bir değerdir.  \n",
    " 13-**campaign**: Bu kampanyada bir müşteri için kaç kez iletişime geçtiğinin bilgisini içerir. Sayısal bir değerdir.  \n",
    " 14-**pdays**: Bir önceki kampanyada müşteri ile en son iletişime geçilmesinden sonra kaç gün geçtiğini gösterir. Sayısal bir değerdir. Burada bulunan -1 değeri daha önce iletişime geçilmediğini göstermektedir.   \n",
    " 15-**previous**: Bir önceki kampanyada müşteri ile iletişime kaç defa geçirildiğinin bilgisini içerir. Sayısal bir değerdir.  \n",
    " 16-**poutcome**: Müşterinin bir önceki kampanyadaki ürünü alıp almadığının sonucunu içerir. Kategorik olup *unknown, other, failure, success* şeklinde 4 çeşittir.  \n",
    " 17-**y**:  Müşteri ile ilgili kredi verilip verilmemesinin kararının verildiği alandır. Kategorik olup Yes, No şeklinde 2 çeşittir.  \n",
    " \n",
    " Uygulama kısmında veri madenciliği çözümleri ile hem istatistik kökenli uygulamaları hem de yapay zeka kökenli algoritmaları bir programlama arayüzü altında sunan R Studio'dan yararlanılmıştır. Banka verisine ait veri kümesi txt olarak düzenlenmiştir. \n",
    " "
   ]
  },
  {
   "cell_type": "code",
   "execution_count": 7,
   "metadata": {
    "collapsed": false,
    "deletable": true,
    "editable": true
   },
   "outputs": [
    {
     "data": {
      "text/html": [
       "<table>\n",
       "<thead><tr><th scope=col>age</th><th scope=col>job</th><th scope=col>marital</th><th scope=col>education</th><th scope=col>default</th><th scope=col>balance</th><th scope=col>housing</th><th scope=col>loan</th><th scope=col>contact</th><th scope=col>day</th><th scope=col>month</th><th scope=col>duration</th><th scope=col>campaign</th><th scope=col>pdays</th><th scope=col>previous</th><th scope=col>poutcome</th><th scope=col>y</th></tr></thead>\n",
       "<tbody>\n",
       "\t<tr><td>30         </td><td>unemployed </td><td>married    </td><td>primary    </td><td>no         </td><td>1787       </td><td>no         </td><td>no         </td><td>cellular   </td><td>19         </td><td>oct        </td><td> 79        </td><td>1          </td><td> -1        </td><td>0          </td><td>unknown    </td><td>no         </td></tr>\n",
       "\t<tr><td>33         </td><td>services   </td><td>married    </td><td>secondary  </td><td>no         </td><td>4789       </td><td>yes        </td><td>yes        </td><td>cellular   </td><td>11         </td><td>may        </td><td>220        </td><td>1          </td><td>339        </td><td>4          </td><td>failure    </td><td>no         </td></tr>\n",
       "\t<tr><td>35         </td><td>management </td><td>single     </td><td>tertiary   </td><td>no         </td><td>1350       </td><td>yes        </td><td>no         </td><td>cellular   </td><td>16         </td><td>apr        </td><td>185        </td><td>1          </td><td>330        </td><td>1          </td><td>failure    </td><td>no         </td></tr>\n",
       "\t<tr><td>30         </td><td>management </td><td>married    </td><td>tertiary   </td><td>no         </td><td>1476       </td><td>yes        </td><td>yes        </td><td>unknown    </td><td> 3         </td><td>jun        </td><td>199        </td><td>4          </td><td> -1        </td><td>0          </td><td>unknown    </td><td>no         </td></tr>\n",
       "\t<tr><td>59         </td><td>blue-collar</td><td>married    </td><td>secondary  </td><td>no         </td><td>   0       </td><td>yes        </td><td>no         </td><td>unknown    </td><td> 5         </td><td>may        </td><td>226        </td><td>1          </td><td> -1        </td><td>0          </td><td>unknown    </td><td>no         </td></tr>\n",
       "\t<tr><td>35         </td><td>management </td><td>single     </td><td>tertiary   </td><td>no         </td><td> 747       </td><td>no         </td><td>no         </td><td>cellular   </td><td>23         </td><td>feb        </td><td>141        </td><td>2          </td><td>176        </td><td>3          </td><td>failure    </td><td>no         </td></tr>\n",
       "</tbody>\n",
       "</table>\n"
      ],
      "text/latex": [
       "\\begin{tabular}{r|lllllllllllllllll}\n",
       " age & job & marital & education & default & balance & housing & loan & contact & day & month & duration & campaign & pdays & previous & poutcome & y\\\\\n",
       "\\hline\n",
       "\t 30          & unemployed  & married     & primary     & no          & 1787        & no          & no          & cellular    & 19          & oct         &  79         & 1           &  -1         & 0           & unknown     & no         \\\\\n",
       "\t 33          & services    & married     & secondary   & no          & 4789        & yes         & yes         & cellular    & 11          & may         & 220         & 1           & 339         & 4           & failure     & no         \\\\\n",
       "\t 35          & management  & single      & tertiary    & no          & 1350        & yes         & no          & cellular    & 16          & apr         & 185         & 1           & 330         & 1           & failure     & no         \\\\\n",
       "\t 30          & management  & married     & tertiary    & no          & 1476        & yes         & yes         & unknown     &  3          & jun         & 199         & 4           &  -1         & 0           & unknown     & no         \\\\\n",
       "\t 59          & blue-collar & married     & secondary   & no          &    0        & yes         & no          & unknown     &  5          & may         & 226         & 1           &  -1         & 0           & unknown     & no         \\\\\n",
       "\t 35          & management  & single      & tertiary    & no          &  747        & no          & no          & cellular    & 23          & feb         & 141         & 2           & 176         & 3           & failure     & no         \\\\\n",
       "\\end{tabular}\n"
      ],
      "text/markdown": [
       "\n",
       "age | job | marital | education | default | balance | housing | loan | contact | day | month | duration | campaign | pdays | previous | poutcome | y | \n",
       "|---|---|---|---|---|---|\n",
       "| 30          | unemployed  | married     | primary     | no          | 1787        | no          | no          | cellular    | 19          | oct         |  79         | 1           |  -1         | 0           | unknown     | no          | \n",
       "| 33          | services    | married     | secondary   | no          | 4789        | yes         | yes         | cellular    | 11          | may         | 220         | 1           | 339         | 4           | failure     | no          | \n",
       "| 35          | management  | single      | tertiary    | no          | 1350        | yes         | no          | cellular    | 16          | apr         | 185         | 1           | 330         | 1           | failure     | no          | \n",
       "| 30          | management  | married     | tertiary    | no          | 1476        | yes         | yes         | unknown     |  3          | jun         | 199         | 4           |  -1         | 0           | unknown     | no          | \n",
       "| 59          | blue-collar | married     | secondary   | no          |    0        | yes         | no          | unknown     |  5          | may         | 226         | 1           |  -1         | 0           | unknown     | no          | \n",
       "| 35          | management  | single      | tertiary    | no          |  747        | no          | no          | cellular    | 23          | feb         | 141         | 2           | 176         | 3           | failure     | no          | \n",
       "\n",
       "\n"
      ],
      "text/plain": [
       "  age job         marital education default balance housing loan contact  day\n",
       "1 30  unemployed  married primary   no      1787    no      no   cellular 19 \n",
       "2 33  services    married secondary no      4789    yes     yes  cellular 11 \n",
       "3 35  management  single  tertiary  no      1350    yes     no   cellular 16 \n",
       "4 30  management  married tertiary  no      1476    yes     yes  unknown   3 \n",
       "5 59  blue-collar married secondary no         0    yes     no   unknown   5 \n",
       "6 35  management  single  tertiary  no       747    no      no   cellular 23 \n",
       "  month duration campaign pdays previous poutcome y \n",
       "1 oct    79      1         -1   0        unknown  no\n",
       "2 may   220      1        339   4        failure  no\n",
       "3 apr   185      1        330   1        failure  no\n",
       "4 jun   199      4         -1   0        unknown  no\n",
       "5 may   226      1         -1   0        unknown  no\n",
       "6 feb   141      2        176   3        failure  no"
      ]
     },
     "metadata": {},
     "output_type": "display_data"
    }
   ],
   "source": [
    "data<-read.table(\"Banka.txt\",header=T,sep=\"\\t\")\n",
    "head(data)"
   ]
  },
  {
   "cell_type": "markdown",
   "metadata": {},
   "source": [
    "**read.table** fonksiyonu dosyayı tablo formatında okur ve dosyadaki alanlara ve satırlara karşılık gelen durumlarla ilgili olarak bir veri çerçevesi oluşturur. Kullanımı  \n",
    "read.table(<span style=\"color:blue\"> file, </span> <span style=\"color:black\"> header=FALSE, </span> <span style=\"color:red\"> sep=\"\", </span>) şeklindedir.  \n",
    "Burada *file* parametresi okunacak verinin dosya ismidir. Buraya dosyanın tam yolu yazılabileceği gibi sadece adı da yazılabilir. Eğer ki dosya R'nin çalıştığı dizinde bulunuyorsa dosyanın sadece adını yazmak yeterlidir. *Getwd() *komutu ile R'nin çalıştığı dizinin yolu öğrenilir.  "
   ]
  },
  {
   "cell_type": "code",
   "execution_count": 11,
   "metadata": {
    "collapsed": false
   },
   "outputs": [
    {
     "data": {
      "text/html": [
       "'C:/Users/Elif'"
      ],
      "text/latex": [
       "'C:/Users/Elif'"
      ],
      "text/markdown": [
       "'C:/Users/Elif'"
      ],
      "text/plain": [
       "[1] \"C:/Users/Elif\""
      ]
     },
     "metadata": {},
     "output_type": "display_data"
    }
   ],
   "source": [
    "getwd()"
   ]
  },
  {
   "cell_type": "markdown",
   "metadata": {},
   "source": [
    "Bu bilgisayarda R'nin çalıştığı dizin C'de Users'ın altında Elif dizininin olduğu yerdedir. Banka dosyamızı bu dizinin altına koyduğumuz için sadece dosya adını ve uzantısını yazmamız yeterli oldu. *header* parametresi; dosyadaki değişkenlerin adlarını ilk satırda içerip içermediğinin bilgisini içeren mantıksal bir değerdir. Default olarak FALSE değerindedir. Banka dosyamızda ilk satır değişkenlerin isimlerini içerdiğinden dolayı header=TRUE şeklinde yazılmıştır. *sep* parametresi ayırıcı karakterdir. Satırlardaki her bir değerin birbirinden nasıl ayrıldığını belirtmek için kullanılır. Default değeri \"\" şeklindedir. Bizim verimizde değerler birbirinden tab ile ayrıldıklarından dolayı sep=\"\\t\" 'dir. Veri setimizi data isimli bir değişkene atadık. Veri setimiz 4521 satırlık olduğundan dolayı bütün satırları yazmak yerine head fonksiyonu ile ilk 6 satır yazılmış oldu.  \n",
    "**Örneğin;** ilk örneğimiz 30 yaşında, işsiz, evli, ilkokul mezunu, aylık geliri 1787 euro olan, en son iletişime 19 ekimde 79 sn'lik bir telefon görüşmesiyle geçilmiş, önceki kampanyadaki ürünü alıp almadığı bilinmeyen bir müşteridir.\n"
   ]
  },
  {
   "cell_type": "code",
   "execution_count": 12,
   "metadata": {
    "collapsed": false
   },
   "outputs": [
    {
     "data": {
      "text/plain": [
       "      age                 job          marital         education    default   \n",
       " Min.   :19.00   management :969   divorced: 528   primary  : 678   no :4445  \n",
       " 1st Qu.:33.00   blue-collar:946   married :2797   secondary:2306   yes:  76  \n",
       " Median :39.00   technician :768   single  :1196   tertiary :1350             \n",
       " Mean   :41.17   admin.     :478                   unknown  : 187             \n",
       " 3rd Qu.:49.00   services   :417                                              \n",
       " Max.   :87.00   retired    :230                                              \n",
       "                 (Other)    :713                                              \n",
       "    balance      housing     loan           contact          day       \n",
       " Min.   :-3313   no :1962   no :3830   cellular :2896   Min.   : 1.00  \n",
       " 1st Qu.:   69   yes:2559   yes: 691   telephone: 301   1st Qu.: 9.00  \n",
       " Median :  444                         unknown  :1324   Median :16.00  \n",
       " Mean   : 1423                                          Mean   :15.92  \n",
       " 3rd Qu.: 1480                                          3rd Qu.:21.00  \n",
       " Max.   :71188                                          Max.   :31.00  \n",
       "                                                                       \n",
       "     month         duration       campaign          pdays       \n",
       " may    :1398   Min.   :   4   Min.   : 1.000   Min.   : -1.00  \n",
       " jul    : 706   1st Qu.: 104   1st Qu.: 1.000   1st Qu.: -1.00  \n",
       " aug    : 633   Median : 185   Median : 2.000   Median : -1.00  \n",
       " jun    : 531   Mean   : 264   Mean   : 2.794   Mean   : 39.77  \n",
       " nov    : 389   3rd Qu.: 329   3rd Qu.: 3.000   3rd Qu.: -1.00  \n",
       " apr    : 293   Max.   :3025   Max.   :50.000   Max.   :871.00  \n",
       " (Other): 571                                                   \n",
       "    previous          poutcome      y       \n",
       " Min.   : 0.0000   failure: 490   no :4000  \n",
       " 1st Qu.: 0.0000   other  : 197   yes: 521  \n",
       " Median : 0.0000   success: 129             \n",
       " Mean   : 0.5426   unknown:3705             \n",
       " 3rd Qu.: 0.0000                            \n",
       " Max.   :25.0000                            \n",
       "                                            "
      ]
     },
     "metadata": {},
     "output_type": "display_data"
    }
   ],
   "source": [
    "summary(data)"
   ]
  },
  {
   "cell_type": "markdown",
   "metadata": {},
   "source": [
    "Summary fonksiyonu çeşitli model oluşturma fonksiyonlarının sonuç özetlerini üretmek için kullanılan genel işlevli bir fonksiyondur.Summary fonksiyonu ile sayısal değerli niteliklerin en düşük değeri, en yüksek değeri, ortalaması gibi özellikleri verilirken kategorik değerli niteliklerin ise herbir kategoriden kaç tane olduğunun özeti verilmektedir. Bir veya iki değişkeni seçip onları görselleyerek veri kümesiyle ilgili bazı analizler yapalım: "
   ]
  },
  {
   "cell_type": "code",
   "execution_count": 18,
   "metadata": {
    "collapsed": false
   },
   "outputs": [
    {
     "data": {
      "image/png": "[encoded data removed]",
      "text/plain": [
       "Plot with title \"Histogram of data$age\""
      ]
     },
     "metadata": {},
     "output_type": "display_data"
    }
   ],
   "source": [
    "hist(data$age, col = \"light blue\", freq = TRUE,labels=TRUE)"
   ]
  },
  {
   "cell_type": "markdown",
   "metadata": {},
   "source": [
    "Banka veri kümesinde bulunan çeşitli nitelikler sayesinde müşteri kararının tahmin edilmesi için karar ağacı algoritmalarından faydalanılmıştır. R'nin kendisine ait olan rpart ve party kütüphaneleri kullanılmıştır.  Brieman, Friedman, Olshen ve Stone tarafından 1984 tarihinde geliştirilen sınıflandırma ve regresyon ağaçları(classification and regression trees(CART)) rpart paketi aracılığıyla üretilir. rpart ile sınıflandırma ve regresyon analizleri yapılmaktadır.  \n",
    "\n"
   ]
  },
  {
   "cell_type": "code",
   "execution_count": 9,
   "metadata": {
    "collapsed": false
   },
   "outputs": [],
   "source": [
    "library(rpart)\n",
    "data<-read.table(\"Banka.txt\",header=T,sep=\"\\t\")\n",
    "data$job<-as.numeric(data$job)\n",
    "data$marital<-as.numeric(data$marital)\n",
    "data$educaion<-as.numeric(data$education)\n",
    "data$default<-as.numeric(data$default)\n",
    "data$housing<-as.numeric(data$housing)\n",
    "data$loan<-as.numeric(data$loan)\n",
    "data$contact<-as.numeric(data$contact)\n",
    "data$month<-as.numeric(data$month)\n",
    "data$poutcome<-as.numeric(data$poutcome)\n",
    "\n"
   ]
  },
  {
   "cell_type": "code",
   "execution_count": 22,
   "metadata": {
    "collapsed": false
   },
   "outputs": [
    {
     "name": "stdout",
     "output_type": "stream",
     "text": [
      "Call:\n",
      "rpart(formula = y ~ ., data = data, method = \"class\")\n",
      "  n= 4521 \n",
      "\n",
      "          CP nsplit rel error    xerror       xstd\n",
      "1 0.02879079      0 1.0000000 1.0000000 0.04120917\n",
      "2 0.01727447      5 0.8560461 0.9404990 0.04011894\n",
      "3 0.01439539      6 0.8387716 0.9385797 0.04008295\n",
      "4 0.01151631      8 0.8099808 0.9309021 0.03993847\n",
      "5 0.01055662      9 0.7984645 0.9424184 0.04015488\n",
      "6 0.01000000     11 0.7773512 0.9328215 0.03997467\n",
      "\n",
      "Variable importance\n",
      "duration poutcome    pdays previous      age  contact    month      day \n",
      "      47       21       14       10        3        2        1        1 \n",
      "\n",
      "Node number 1: 4521 observations,    complexity param=0.02879079\n",
      "  predicted class=no   expected loss=0.11524  P(node) =1\n",
      "    class counts:  4000   521\n",
      "   probabilities: 0.885 0.115 \n",
      "  left son=2 (4162 obs) right son=3 (359 obs)\n",
      "  Primary splits:\n",
      "      duration < 645.5   to the left,  improve=116.29880, (0 missing)\n",
      "      pdays    < 33      to the left,  improve= 24.41203, (0 missing)\n",
      "      previous < 0.5     to the left,  improve= 24.20612, (0 missing)\n",
      "      poutcome < 3.5     to the right, improve= 24.20612, (0 missing)\n",
      "      month    < 10.5    to the left,  improve= 23.48156, (0 missing)\n",
      "\n",
      "Node number 2: 4162 observations,    complexity param=0.02879079\n",
      "  predicted class=no   expected loss=0.08193176  P(node) =0.9205928\n",
      "    class counts:  3821   341\n",
      "   probabilities: 0.918 0.082 \n",
      "  left son=4 (2548 obs) right son=5 (1614 obs)\n",
      "  Primary splits:\n",
      "      duration < 211.5   to the left,  improve=37.30666, (0 missing)\n",
      "      month    < 10.5    to the left,  improve=25.76791, (0 missing)\n",
      "      pdays    < 0       to the left,  improve=24.71679, (0 missing)\n",
      "      previous < 0.5     to the left,  improve=24.71679, (0 missing)\n",
      "      poutcome < 3.5     to the right, improve=24.71679, (0 missing)\n",
      "  Surrogate splits:\n",
      "      age   < 62.5    to the left,  agree=0.614, adj=0.004, (0 split)\n",
      "      pdays < 383.5   to the left,  agree=0.613, adj=0.002, (0 split)\n",
      "\n",
      "Node number 3: 359 observations,    complexity param=0.02879079\n",
      "  predicted class=yes  expected loss=0.4986072  P(node) =0.07940721\n",
      "    class counts:   179   180\n",
      "   probabilities: 0.499 0.501 \n",
      "  left son=6 (133 obs) right son=7 (226 obs)\n",
      "  Primary splits:\n",
      "      contact  < 1.5     to the right, improve=5.151412, (0 missing)\n",
      "      duration < 794.5   to the left,  improve=4.582856, (0 missing)\n",
      "      marital  < 2.5     to the left,  improve=3.555404, (0 missing)\n",
      "      job      < 4.5     to the left,  improve=3.156418, (0 missing)\n",
      "      month    < 8.5     to the right, improve=2.860280, (0 missing)\n",
      "  Surrogate splits:\n",
      "      month    < 6.5     to the right, agree=0.741, adj=0.301, (0 split)\n",
      "      day      < 7.5     to the left,  agree=0.663, adj=0.090, (0 split)\n",
      "      age      < 78      to the right, agree=0.643, adj=0.038, (0 split)\n",
      "      duration < 1635.5  to the right, agree=0.638, adj=0.023, (0 split)\n",
      "      previous < 7.5     to the right, agree=0.635, adj=0.015, (0 split)\n",
      "\n",
      "Node number 4: 2548 observations\n",
      "  predicted class=no   expected loss=0.02864992  P(node) =0.5635921\n",
      "    class counts:  2475    73\n",
      "   probabilities: 0.971 0.029 \n",
      "\n",
      "Node number 5: 1614 observations,    complexity param=0.02879079\n",
      "  predicted class=no   expected loss=0.1660471  P(node) =0.3570007\n",
      "    class counts:  1346   268\n",
      "   probabilities: 0.834 0.166 \n",
      "  left son=10 (1295 obs) right son=11 (319 obs)\n",
      "  Primary splits:\n",
      "      pdays    < 33      to the left,  improve=32.03711, (0 missing)\n",
      "      previous < 0.5     to the left,  improve=30.84915, (0 missing)\n",
      "      poutcome < 3.5     to the right, improve=30.84915, (0 missing)\n",
      "      month    < 10.5    to the left,  improve=26.46923, (0 missing)\n",
      "      contact  < 2.5     to the right, improve=22.63770, (0 missing)\n",
      "  Surrogate splits:\n",
      "      previous < 0.5     to the left,  agree=0.997, adj=0.984, (0 split)\n",
      "      poutcome < 3.5     to the right, agree=0.997, adj=0.984, (0 split)\n",
      "      age      < 76      to the left,  agree=0.805, adj=0.013, (0 split)\n",
      "      month    < 10.5    to the left,  agree=0.804, adj=0.009, (0 split)\n",
      "\n",
      "Node number 6: 133 observations,    complexity param=0.01055662\n",
      "  predicted class=no   expected loss=0.3909774  P(node) =0.02941827\n",
      "    class counts:    81    52\n",
      "   probabilities: 0.609 0.391 \n",
      "  left son=12 (69 obs) right son=13 (64 obs)\n",
      "  Primary splits:\n",
      "      age      < 42.5    to the left,  improve=4.854650, (0 missing)\n",
      "      duration < 1539.5  to the left,  improve=3.618021, (0 missing)\n",
      "      housing  < 1.5     to the right, improve=3.551266, (0 missing)\n",
      "      marital  < 1.5     to the right, improve=2.566416, (0 missing)\n",
      "      month    < 8       to the right, improve=2.335955, (0 missing)\n",
      "  Surrogate splits:\n",
      "      housing   < 1.5     to the right, agree=0.662, adj=0.297, (0 split)\n",
      "      education splits as  RLLR,        agree=0.639, adj=0.250, (0 split)\n",
      "      marital   < 1.5     to the right, agree=0.617, adj=0.203, (0 split)\n",
      "      educaion  < 1.5     to the right, agree=0.617, adj=0.203, (0 split)\n",
      "      contact   < 2.5     to the right, agree=0.609, adj=0.188, (0 split)\n",
      "\n",
      "Node number 7: 226 observations,    complexity param=0.01439539\n",
      "  predicted class=yes  expected loss=0.4336283  P(node) =0.04998894\n",
      "    class counts:    98   128\n",
      "   probabilities: 0.434 0.566 \n",
      "  left son=14 (99 obs) right son=15 (127 obs)\n",
      "  Primary splits:\n",
      "      duration  < 794     to the left,  improve=2.957947, (0 missing)\n",
      "      education splits as  RRRL,        improve=2.808850, (0 missing)\n",
      "      educaion  < 3.5     to the right, improve=2.808850, (0 missing)\n",
      "      job       < 6.5     to the left,  improve=2.396237, (0 missing)\n",
      "      age       < 55.5    to the right, improve=2.394322, (0 missing)\n",
      "  Surrogate splits:\n",
      "      balance   < 2913    to the right, agree=0.597, adj=0.081, (0 split)\n",
      "      day       < 6.5     to the left,  agree=0.593, adj=0.071, (0 split)\n",
      "      age       < 28.5    to the left,  agree=0.580, adj=0.040, (0 split)\n",
      "      education splits as  RRRL,        agree=0.580, adj=0.040, (0 split)\n",
      "      educaion  < 3.5     to the right, agree=0.580, adj=0.040, (0 split)\n",
      "\n",
      "Node number 10: 1295 observations\n",
      "  predicted class=no   expected loss=0.1166023  P(node) =0.2864411\n",
      "    class counts:  1144   151\n",
      "   probabilities: 0.883 0.117 \n",
      "\n",
      "Node number 11: 319 observations,    complexity param=0.02879079\n",
      "  predicted class=no   expected loss=0.3667712  P(node) =0.07055961\n",
      "    class counts:   202   117\n",
      "   probabilities: 0.633 0.367 \n",
      "  left son=22 (244 obs) right son=23 (75 obs)\n",
      "  Primary splits:\n",
      "      poutcome < 2.5     to the left,  improve=36.806700, (0 missing)\n",
      "      housing  < 1.5     to the right, improve=19.403890, (0 missing)\n",
      "      pdays    < 100     to the right, improve=13.181140, (0 missing)\n",
      "      month    < 10.5    to the left,  improve= 8.812961, (0 missing)\n",
      "      day      < 20.5    to the left,  improve= 4.962035, (0 missing)\n",
      "  Surrogate splits:\n",
      "      balance  < 13433.5 to the left,  agree=0.771, adj=0.027, (0 split)\n",
      "      day      < 1.5     to the right, agree=0.771, adj=0.027, (0 split)\n",
      "      duration < 622.5   to the left,  agree=0.771, adj=0.027, (0 split)\n",
      "      job      < 11.5    to the left,  agree=0.768, adj=0.013, (0 split)\n",
      "\n",
      "Node number 12: 69 observations\n",
      "  predicted class=no   expected loss=0.2608696  P(node) =0.01526211\n",
      "    class counts:    51    18\n",
      "   probabilities: 0.739 0.261 \n",
      "\n",
      "Node number 13: 64 observations,    complexity param=0.01055662\n",
      "  predicted class=yes  expected loss=0.46875  P(node) =0.01415616\n",
      "    class counts:    30    34\n",
      "   probabilities: 0.469 0.531 \n",
      "  left son=26 (39 obs) right son=27 (25 obs)\n",
      "  Primary splits:\n",
      "      duration < 989.5   to the left,  improve=2.923205, (0 missing)\n",
      "      age      < 47.5    to the right, improve=2.284357, (0 missing)\n",
      "      job      < 5.5     to the left,  improve=2.160714, (0 missing)\n",
      "      balance  < 25      to the left,  improve=1.630656, (0 missing)\n",
      "      housing  < 1.5     to the right, improve=1.560239, (0 missing)\n",
      "  Surrogate splits:\n",
      "      age       < 43.5    to the right, agree=0.641, adj=0.08, (0 split)\n",
      "      balance   < 660.5   to the left,  agree=0.641, adj=0.08, (0 split)\n",
      "      campaign  < 1.5     to the left,  agree=0.641, adj=0.08, (0 split)\n",
      "      education splits as  LLLR,        agree=0.625, adj=0.04, (0 split)\n",
      "      day       < 3.5     to the right, agree=0.625, adj=0.04, (0 split)\n",
      "\n",
      "Node number 14: 99 observations,    complexity param=0.01439539\n",
      "  predicted class=no   expected loss=0.4747475  P(node) =0.02189781\n",
      "    class counts:    52    47\n",
      "   probabilities: 0.525 0.475 \n",
      "  left son=28 (83 obs) right son=29 (16 obs)\n",
      "  Primary splits:\n",
      "      pdays    < 96      to the left,  improve=4.354159, (0 missing)\n",
      "      day      < 28      to the right, improve=3.395477, (0 missing)\n",
      "      balance  < 314     to the left,  improve=3.238817, (0 missing)\n",
      "      duration < 672.5   to the right, improve=2.206735, (0 missing)\n",
      "      poutcome < 2.5     to the right, improve=1.871216, (0 missing)\n",
      "  Surrogate splits:\n",
      "      previous < 0.5     to the left,  agree=0.96, adj=0.75, (0 split)\n",
      "      poutcome < 3.5     to the right, agree=0.96, adj=0.75, (0 split)\n",
      "\n",
      "Node number 15: 127 observations,    complexity param=0.01151631\n",
      "  predicted class=yes  expected loss=0.3622047  P(node) =0.02809113\n",
      "    class counts:    46    81\n",
      "   probabilities: 0.362 0.638 \n",
      "  left son=30 (18 obs) right son=31 (109 obs)\n",
      "  Primary splits:\n",
      "      age       < 55.5    to the right, improve=3.888175, (0 missing)\n",
      "      pdays     < 313     to the right, improve=2.456875, (0 missing)\n",
      "      balance   < 175     to the right, improve=2.269196, (0 missing)\n",
      "      education splits as  LRRL,        improve=1.568093, (0 missing)\n",
      "      day       < 11.5    to the left,  improve=1.550107, (0 missing)\n",
      "  Surrogate splits:\n",
      "      month     < 10.5    to the right, agree=0.874, adj=0.111, (0 split)\n",
      "      education splits as  RRRL,        agree=0.866, adj=0.056, (0 split)\n",
      "      educaion  < 3.5     to the right, agree=0.866, adj=0.056, (0 split)\n",
      "\n",
      "Node number 22: 244 observations,    complexity param=0.01727447\n",
      "  predicted class=no   expected loss=0.2336066  P(node) =0.05397036\n",
      "    class counts:   187    57\n",
      "   probabilities: 0.766 0.234 \n",
      "  left son=44 (231 obs) right son=45 (13 obs)\n",
      "  Primary splits:\n",
      "      pdays   < 373     to the left,  improve=10.304580, (0 missing)\n",
      "      month   < 10.5    to the left,  improve= 5.538961, (0 missing)\n",
      "      day     < 20.5    to the left,  improve= 4.217943, (0 missing)\n",
      "      housing < 1.5     to the right, improve= 3.804345, (0 missing)\n",
      "      age     < 25.5    to the right, improve= 3.330275, (0 missing)\n",
      "\n",
      "Node number 23: 75 observations\n",
      "  predicted class=yes  expected loss=0.2  P(node) =0.01658925\n",
      "    class counts:    15    60\n",
      "   probabilities: 0.200 0.800 \n",
      "\n",
      "Node number 26: 39 observations\n",
      "  predicted class=no   expected loss=0.4102564  P(node) =0.00862641\n",
      "    class counts:    23    16\n",
      "   probabilities: 0.590 0.410 \n",
      "\n",
      "Node number 27: 25 observations\n",
      "  predicted class=yes  expected loss=0.28  P(node) =0.00552975\n",
      "    class counts:     7    18\n",
      "   probabilities: 0.280 0.720 \n",
      "\n",
      "Node number 28: 83 observations\n",
      "  predicted class=no   expected loss=0.4096386  P(node) =0.01835877\n",
      "    class counts:    49    34\n",
      "   probabilities: 0.590 0.410 \n",
      "\n",
      "Node number 29: 16 observations\n",
      "  predicted class=yes  expected loss=0.1875  P(node) =0.00353904\n",
      "    class counts:     3    13\n",
      "   probabilities: 0.188 0.812 \n",
      "\n",
      "Node number 30: 18 observations\n",
      "  predicted class=no   expected loss=0.3333333  P(node) =0.00398142\n",
      "    class counts:    12     6\n",
      "   probabilities: 0.667 0.333 \n",
      "\n",
      "Node number 31: 109 observations\n",
      "  predicted class=yes  expected loss=0.3119266  P(node) =0.02410971\n",
      "    class counts:    34    75\n",
      "   probabilities: 0.312 0.688 \n",
      "\n",
      "Node number 44: 231 observations\n",
      "  predicted class=no   expected loss=0.1991342  P(node) =0.05109489\n",
      "    class counts:   185    46\n",
      "   probabilities: 0.801 0.199 \n",
      "\n",
      "Node number 45: 13 observations\n",
      "  predicted class=yes  expected loss=0.1538462  P(node) =0.00287547\n",
      "    class counts:     2    11\n",
      "   probabilities: 0.154 0.846 \n",
      "\n"
     ]
    },
    {
     "data": {
      "image/png": "[encoded data removed]",
      "text/plain": [
       "Plot with title \"Classification Tree for Bank\""
      ]
     },
     "metadata": {},
     "output_type": "display_data"
    }
   ],
   "source": [
    "elif<-rpart(y~.,method=\"class\",data=data)\n",
    "plot(elif,uniform=TRUE,main=\"Classification Tree for Bank\")\n",
    "text(elif,use.n=TRUE,all=TRUE,cex=.9)\n",
    "summary(elif)"
   ]
  },
  {
   "cell_type": "code",
   "execution_count": null,
   "metadata": {
    "collapsed": true
   },
   "outputs": [],
   "source": []
  }
 ],
 "metadata": {
  "kernelspec": {
   "display_name": "R",
   "language": "R",
   "name": "ir"
  },
  "language_info": {
   "codemirror_mode": "r",
   "file_extension": ".r",
   "mimetype": "text/x-r-source",
   "name": "R",
   "pygments_lexer": "r",
   "version": "3.3.2"
  }
 },
 "nbformat": 4,
 "nbformat_minor": 2
}
