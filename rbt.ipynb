{
 "cells": [
  {
   "cell_type": "markdown",
   "metadata": {},
   "source": [
    "# Project Title\n",
    "\n",
    "## Members\n",
    "\n",
    "1. First member: Elif Uygun uygunel@itu.edu.tr\n",
    "2. Second member: Gamze Kaptan kaptang@itu.edu.tr\n",
    "\n",
    "## Description of the project\n",
    "\n",
    "R üzerinde Karar ağaçları ve lojistik regresyon algoritmaları ile veri analizi\n",
    "\n",
    "### The methods to be used\n",
    "\n",
    "1) Decision Tree : \n",
    "Karar ağaçları sınıflandırma ve tahmin için sıkça kullanılan bir veri madenciliği yaklaşımıdır. Bir karara varmak için çeşitli adımlardan oluşan bu algoritmada adımların olası değerleri bir ağaç (tree) üzerinde gösterilir. Birçok sınıflandırma metodu olmasına rağmen karar ağaçları;\n",
    "•\tDüşük maliyetli olması\n",
    "•\tAnlaşılmasının, yorumlanmasının kolay olması\n",
    "•\tVeri tabanları ile bağlantısının kolay olması\n",
    "•\tGüvenirliliğinin fazla olması\n",
    "gibi avantajları bakımından tahminleme amacıyla kullanılan başlıca algoritmalardandır. \n",
    "(https://www.mmo.org.tr/sites/default/files/ab225c69b017f13_ek.pdf)\n",
    "Karar ağaçları verileri daha küçük verilere bölerek ilerler. Karar ağaçları karar düğümleri (decision nodes) ve yapraklardan (leaf nodes) oluşan bir yapıdır. Karar düğümü iki ya da daha fazla daldan oluşur. Yaprak düğümü ise tahmin sonucunun olduğu yapıdır. \n",
    "Algoritmanın adımları şu şekildedir : \n",
    "1)\tT öğrenme kümesini oluştur.\n",
    "2)\tT kümesindeki örnekleri en iyi ayıran niteliği belirle.\n",
    "3)\tSeçilen nitelik ile ağacın bir düğümünü oluştur ve bu düğümden alt düğümleri veya yaprak düğümünü oluştur. Alt düğümlere ait alt veri kümesinin örneklerini incele.\n",
    "4)\t3. Adımda oluşturulan her alt veri kümesi için \n",
    "•\tÖrneklerin hepsi aynı sınıfa ait\n",
    "•\tÖrnekleri bölecek özellik kalmamış\n",
    "•\tKalan özelliklerin değerini taşıyan örnek kalmayıncaya kadar devam eder.\n",
    "İşlemi sonlandır. Diğer durumda alt veri kümesini ayırmak için 2. Adımdan devam edilir. Buradaki 2. Adımdaki en iyi ayrılan nitelik kök düğümümüzü oluşturur. Karar ağacındaki kök düğümü veriset içerisindeki en iyi tahminleyicidir. Peki bu kök düğümüne nasıl karar verilir? Verisetimizdeki her attribute için ayrı ayrı bilgi kazancı hesaplanır ve bilgi kazancı en yüksek olanlar kök olarak alınır. Bilgi kazancı ölçümünde Entropy kullanılır. Entropy, belirsizliğin ve beklenmeyen durumun ortaya çıkma olasılığını gösterir. \n",
    "Entropy şu şekilde hesaplanır : \n",
    " \n",
    " \n",
    " 2) Logistic Regression\n",
    "\n",
    "\n",
    "\n",
    "\n",
    "\n",
    "Bir tahmini analiz olan lojistik regresyon,veriyi tanımlamak ve bir bağımlı ikili değişken ( sadece 0 1 değerlerini alabilen)ile bir veya birden fazla bağımsız değişkenler arasındaki ilişkiyi açıklamak için kullanılır. Son yıllarda lojistik regresyon analizinin giderek daha yaygın kullanılmasının nedenleri kısaca şöyle açıklanmaktadır (Cook, 2008; Garson, 2008; Mertler ve Vannatta, 2005; Seven, 1997; Tabachnick ve Fidell, 1996):\n",
    "1)Lojistik regresyonda bağımsız değişkenlerin sürekli ya da süreksiz olması ile ilgili hiçbir kısıtlama yoktur.Bağımsız değişkenler sürekli kategorik ya da ikilem olabilir ancak bağmlı değişken kategorik(kesikli,süreksiz) olmalıdır.\n",
    "2)Lojistik modelde paraametreler kolay yorumlanabildiğinden matematiksel olarak kullanımı kolay fonksiyonlar elde edilmektedir.\n",
    "3)Çok sayıda bilgisayar programında(spss,sas vb) lojistik modele dayalı analizler yapılabilmektedir.\n",
    "4)Çeşitli testlerin uygulanabilirliği bağımsız değişkenlerin olasılık fonksiyonlarının dağılımı üzerinde kısıt olmamasıyla sağlanır.\n",
    " \n",
    "(https://en.wikipedia.org/wiki/Logistic_regression#/media/File:Linear_regression.svg)\n",
    "\n",
    "Lojistik fonksiyon \n",
    "Lojistik regresyonu tanımlamak için standart lojistik fonksiyonu bilmek önemlidir.Standart lojistik fonksiyon herhangi bir t değişkeni için  0,1 arası çıktılar verdiği için kullanışlıdır.\n",
    "\n",
    "  \n",
    " \n",
    " \n",
    "\n",
    "Standart lojistik fonksiyon grafiği;\n",
    " \n",
    "\n",
    "\n",
    "Regresyon analizi:\n",
    "•\tOptimizasyon problemleri\n",
    "•\tÖngörülen trend ve satış hesaplamaları\n",
    "•\tRisk değerlendirme\n",
    "•\tFiyat değişimlerinin etkisini analiz etme\n",
    "Gibi bir çok günlük hayat problemine çözüm üretir.\n",
    "\n",
    "### The data\n",
    "\n",
    "Dataset : Bank Marketing\n",
    "Bu veri setimiz Portekiz'e ait bir bankanın pazarlama kampanyası için olası müşterilerilerin özelliklerini içermektedir. Bu kampanyalar telefonla tablodaki müşteriler aranarak yapılmaktadır. Eğer müşteri kampanyayı yani bankaya ait mevduatı almayı kabul ederse birkaç defa daha iletişime geçilmektedir. Bank.csv tablomuzda 4521 tane instance olup, 16 tane attribute bulunmaktadır. Bu attributelar instance'lara ait özelliklerdir. Bu attribute'lara bakacak olursak ;\n",
    "1) age: Müşterilere ait yaş bilgisini içerir. Sayısal bir değerdir. \n",
    "2) job: Müşterilerin meslek bilgisini içerir.Kategorik olup admin, unknown, unemployed, management, housemaid, entrepreneur, student, blue-collar, self-employed, retired, techinician, services şeklinde 12 tane meslek çeşidi bulunmaktadır.\n",
    "3) marital: Müşterilerin medeni durumlarını içermektedir. Kategorik olup married, divorced, single 3 çeşit medeni hal durumu içermektedir.\n",
    "4) education: Müşterilere ait eğitim bilgilerini içermektedir.Kategorik olup unknown, secondary, primary, tertiary olarak 3 eğitim türü içermektedir.\n",
    "5) default: Müşterinin bankada kredisi olup olmadığı bilgisini içerir. Kategorik olup Yes, No şeklinde 2 tür içerir.\n",
    "6) balance: Müşterinin ortalama yıllık bakiyesini euro olarak ifade etmektedir. Sayısal bir değerdir.\n",
    "7) housing: Müşterinin konut kredisi olup olmadığı bilgisini içerir. Kategorik olup Yes, No şeklinde 2 tür içerir.\n",
    "8) loan:  Müşterinin bireysel kredisinin olup olmadığı bilgisini içerir.Kategorik olup Yes, No şeklinde 2 tür içerir.\n",
    "9) contact: Müşteriye ait iletişim tipini belirtir. Kategorik olup unknown, telephone, cellular şeklinde 3 tür içerir.\n",
    "10) day: Bu kampanya için müşteriyle en son iletişime geçirilen ayın gün bilgisini içerir. Sayısal bir değerdir.\n",
    "11) month: Bu kampanya için müşteriyle en son iletişime geçirilen ayın bilgisini içerir. \n",
    "12) duration:Bu kampanya için müşteriyle en son iletişime  geçirilen görüşmenin saniye olarak süresini içerir.\n",
    "13) campaign: Bu kampanyada bir müşteri için kaç kez iletişime geçtiğinin bilgisini içerir. Sayısal bir değerdir.\n",
    "14) pdays: Bir önceki kampanyada müşteri ile en son iletişime geçilmesinden sonra kaç gün geçtiğini gösterir.\n",
    "15) previous: Bir önceki kampanyada müşteri ile iletişime kaç defa geçirildiğinin bilgisini içerir.\n",
    "16) poutcome: Müşterinin bir önceki kampanyadaki ürünü alıp almadığı sonucunu içerir. Kategorik olup  unknown, other, failure, success şeklinde 4 tür içerir.\n",
    "\n",
    "\n",
    "https://archive.ics.uci.edu/ml/datasets/Bank+Marketing\n",
    "\n",
    "\n",
    "\n",
    "\n",
    "## Code\n",
    "\n",
    "As proof of work, you must run this notebook.  Upload an HTML output of this notebook on your github account."
   ]
  },
  {
   "cell_type": "code",
   "execution_count": 1,
   "metadata": {
    "collapsed": false
   },
   "outputs": [
    {
     "data": {
      "text/html": [
       "<table>\n",
       "<thead><tr><th scope=col>V1</th><th scope=col>V2</th><th scope=col>V3</th><th scope=col>V4</th><th scope=col>V5</th><th scope=col>V6</th><th scope=col>V7</th><th scope=col>V8</th><th scope=col>V9</th><th scope=col>V10</th><th scope=col>V11</th><th scope=col>V12</th><th scope=col>V13</th><th scope=col>V14</th></tr></thead>\n",
       "<tbody>\n",
       "\t<tr><td>1    </td><td>14.23</td><td>1.71 </td><td>2.43 </td><td>15.6 </td><td>127  </td><td>2.80 </td><td>3.06 </td><td>0.28 </td><td>2.29 </td><td>5.64 </td><td>1.04 </td><td>3.92 </td><td>1065 </td></tr>\n",
       "\t<tr><td>1    </td><td>13.20</td><td>1.78 </td><td>2.14 </td><td>11.2 </td><td>100  </td><td>2.65 </td><td>2.76 </td><td>0.26 </td><td>1.28 </td><td>4.38 </td><td>1.05 </td><td>3.40 </td><td>1050 </td></tr>\n",
       "\t<tr><td>1    </td><td>13.16</td><td>2.36 </td><td>2.67 </td><td>18.6 </td><td>101  </td><td>2.80 </td><td>3.24 </td><td>0.30 </td><td>2.81 </td><td>5.68 </td><td>1.03 </td><td>3.17 </td><td>1185 </td></tr>\n",
       "\t<tr><td>1    </td><td>14.37</td><td>1.95 </td><td>2.50 </td><td>16.8 </td><td>113  </td><td>3.85 </td><td>3.49 </td><td>0.24 </td><td>2.18 </td><td>7.80 </td><td>0.86 </td><td>3.45 </td><td>1480 </td></tr>\n",
       "\t<tr><td>1    </td><td>13.24</td><td>2.59 </td><td>2.87 </td><td>21.0 </td><td>118  </td><td>2.80 </td><td>2.69 </td><td>0.39 </td><td>1.82 </td><td>4.32 </td><td>1.04 </td><td>2.93 </td><td> 735 </td></tr>\n",
       "\t<tr><td>1    </td><td>14.20</td><td>1.76 </td><td>2.45 </td><td>15.2 </td><td>112  </td><td>3.27 </td><td>3.39 </td><td>0.34 </td><td>1.97 </td><td>6.75 </td><td>1.05 </td><td>2.85 </td><td>1450 </td></tr>\n",
       "</tbody>\n",
       "</table>\n"
      ],
      "text/latex": [
       "\\begin{tabular}{r|llllllllllllll}\n",
       " V1 & V2 & V3 & V4 & V5 & V6 & V7 & V8 & V9 & V10 & V11 & V12 & V13 & V14\\\\\n",
       "\\hline\n",
       "\t 1     & 14.23 & 1.71  & 2.43  & 15.6  & 127   & 2.80  & 3.06  & 0.28  & 2.29  & 5.64  & 1.04  & 3.92  & 1065 \\\\\n",
       "\t 1     & 13.20 & 1.78  & 2.14  & 11.2  & 100   & 2.65  & 2.76  & 0.26  & 1.28  & 4.38  & 1.05  & 3.40  & 1050 \\\\\n",
       "\t 1     & 13.16 & 2.36  & 2.67  & 18.6  & 101   & 2.80  & 3.24  & 0.30  & 2.81  & 5.68  & 1.03  & 3.17  & 1185 \\\\\n",
       "\t 1     & 14.37 & 1.95  & 2.50  & 16.8  & 113   & 3.85  & 3.49  & 0.24  & 2.18  & 7.80  & 0.86  & 3.45  & 1480 \\\\\n",
       "\t 1     & 13.24 & 2.59  & 2.87  & 21.0  & 118   & 2.80  & 2.69  & 0.39  & 1.82  & 4.32  & 1.04  & 2.93  &  735 \\\\\n",
       "\t 1     & 14.20 & 1.76  & 2.45  & 15.2  & 112   & 3.27  & 3.39  & 0.34  & 1.97  & 6.75  & 1.05  & 2.85  & 1450 \\\\\n",
       "\\end{tabular}\n"
      ],
      "text/markdown": [
       "\n",
       "V1 | V2 | V3 | V4 | V5 | V6 | V7 | V8 | V9 | V10 | V11 | V12 | V13 | V14 | \n",
       "|---|---|---|---|---|---|\n",
       "| 1     | 14.23 | 1.71  | 2.43  | 15.6  | 127   | 2.80  | 3.06  | 0.28  | 2.29  | 5.64  | 1.04  | 3.92  | 1065  | \n",
       "| 1     | 13.20 | 1.78  | 2.14  | 11.2  | 100   | 2.65  | 2.76  | 0.26  | 1.28  | 4.38  | 1.05  | 3.40  | 1050  | \n",
       "| 1     | 13.16 | 2.36  | 2.67  | 18.6  | 101   | 2.80  | 3.24  | 0.30  | 2.81  | 5.68  | 1.03  | 3.17  | 1185  | \n",
       "| 1     | 14.37 | 1.95  | 2.50  | 16.8  | 113   | 3.85  | 3.49  | 0.24  | 2.18  | 7.80  | 0.86  | 3.45  | 1480  | \n",
       "| 1     | 13.24 | 2.59  | 2.87  | 21.0  | 118   | 2.80  | 2.69  | 0.39  | 1.82  | 4.32  | 1.04  | 2.93  |  735  | \n",
       "| 1     | 14.20 | 1.76  | 2.45  | 15.2  | 112   | 3.27  | 3.39  | 0.34  | 1.97  | 6.75  | 1.05  | 2.85  | 1450  | \n",
       "\n",
       "\n"
      ],
      "text/plain": [
       "  V1 V2    V3   V4   V5   V6  V7   V8   V9   V10  V11  V12  V13  V14 \n",
       "1 1  14.23 1.71 2.43 15.6 127 2.80 3.06 0.28 2.29 5.64 1.04 3.92 1065\n",
       "2 1  13.20 1.78 2.14 11.2 100 2.65 2.76 0.26 1.28 4.38 1.05 3.40 1050\n",
       "3 1  13.16 2.36 2.67 18.6 101 2.80 3.24 0.30 2.81 5.68 1.03 3.17 1185\n",
       "4 1  14.37 1.95 2.50 16.8 113 3.85 3.49 0.24 2.18 7.80 0.86 3.45 1480\n",
       "5 1  13.24 2.59 2.87 21.0 118 2.80 2.69 0.39 1.82 4.32 1.04 2.93  735\n",
       "6 1  14.20 1.76 2.45 15.2 112 3.27 3.39 0.34 1.97 6.75 1.05 2.85 1450"
      ]
     },
     "metadata": {},
     "output_type": "display_data"
    }
   ],
   "source": [
    "data <- read.csv(\"https://archive.ics.uci.edu/ml/machine-learning-databases/wine/wine.data\", header=FALSE)\n",
    "head(data)"
   ]
  },
  {
   "cell_type": "code",
   "execution_count": 2,
   "metadata": {
    "collapsed": false
   },
   "outputs": [
    {
     "data": {
      "image/png": "[encoded data removed]",
      "text/plain": [
       "Plot with title \"Histogram of data$V4\""
      ]
     },
     "metadata": {},
     "output_type": "display_data"
    }
   ],
   "source": [
    "hist(data$V4)"
   ]
  },
  {
   "cell_type": "code",
   "execution_count": null,
   "metadata": {
    "collapsed": true
   },
   "outputs": [],
   "source": []
  }
 ],
 "metadata": {
  "kernelspec": {
   "display_name": "R",
   "language": "R",
   "name": "ir"
  },
  "language_info": {
   "codemirror_mode": "r",
   "file_extension": ".r",
   "mimetype": "text/x-r-source",
   "name": "R",
   "pygments_lexer": "r",
   "version": "3.3.2"
  }
 },
 "nbformat": 4,
 "nbformat_minor": 2
}
